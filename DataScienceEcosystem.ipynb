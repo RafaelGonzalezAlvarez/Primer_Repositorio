{
  "metadata": {
    "kernelspec": {
      "name": "python",
      "display_name": "Python (Pyodide)",
      "language": "python"
    },
    "language_info": {
      "codemirror_mode": {
        "name": "python",
        "version": 3
      },
      "file_extension": ".py",
      "mimetype": "text/x-python",
      "name": "python",
      "nbconvert_exporter": "python",
      "pygments_lexer": "ipython3",
      "version": "3.8"
    }
  },
  "nbformat_minor": 5,
  "nbformat": 4,
  "cells": [
    {
      "id": "efcd2b04-a2e5-4c52-a97c-f2fc685df0b3",
      "cell_type": "markdown",
      "source": "# Data Science Tools and Ecosystem",
      "metadata": {}
    },
    {
      "id": "626988b2-eec3-4042-9cfe-721fa6bf8199",
      "cell_type": "markdown",
      "source": "# In this notebook, Data Science Tools and Ecosystem are summarized.",
      "metadata": {}
    },
    {
      "id": "e3181728-f38b-43cf-9240-11262fbce2be",
      "cell_type": "markdown",
      "source": "# Some of the popular languages that Data Scientists use are: R, C++ and Ruby",
      "metadata": {}
    },
    {
      "id": "215eeebd-aefb-491f-88f4-98529d6b5253",
      "cell_type": "markdown",
      "source": "# Some of the commonly used libraries used by Data Scientists include: Julia, Viola and Anaconda",
      "metadata": {}
    },
    {
      "id": "9071d79e-e600-4913-a4f7-86d8870aa5c3",
      "cell_type": "markdown",
      "source": "## Execute as a markdown cell\n\n| Country Name | Capital |\n| -------------| ------ |\n| United States | Washington DC |\n| Australia | Canberra |\n| India | New Delhi |",
      "metadata": {}
    },
    {
      "id": "635c1eaf-7758-4b69-a5f7-e7282c5c8556",
      "cell_type": "markdown",
      "source": "## Execute as a markdown cell\n\n| Data Science Tools |\n| -------------|\n| Pytho |\n| Rstudio |\n| Viola |",
      "metadata": {}
    },
    {
      "id": "7fdcab96-0525-48ae-aa7a-23941abc44f3",
      "cell_type": "markdown",
      "source": "### Below are a few examples of evaluating arithmetic expressions in Python",
      "metadata": {}
    },
    {
      "id": "3d0f960d-7abe-41d7-8ab9-a6ac1c07ba7e",
      "cell_type": "code",
      "source": "### Below are a few examples of evaluating arithmetic expressions in Python\na = 3\nb = 2\nc = a + b\nd = a*c\nprint (c)\nprint (d)",
      "metadata": {
        "jp-MarkdownHeadingCollapsed": true,
        "trusted": true
      },
      "outputs": [
        {
          "name": "stdout",
          "output_type": "stream",
          "text": "5\n15\n"
        }
      ],
      "execution_count": 9
    },
    {
      "id": "79a4e924-1610-4408-8703-0ced3443638a",
      "cell_type": "code",
      "source": "",
      "metadata": {
        "trusted": true
      },
      "outputs": [],
      "execution_count": null
    },
    {
      "id": "6005dde3-b126-4dc1-a641-d95580fa2a70",
      "cell_type": "code",
      "source": "a = (3*4)+5\nprint (\"This a simple arithmetic expressiaon to mutiply then add integers\")\nprint (a)",
      "metadata": {
        "trusted": true
      },
      "outputs": [
        {
          "name": "stdout",
          "output_type": "stream",
          "text": "This a simple arithmetic expression to mutiply then add integers\n17\n"
        }
      ],
      "execution_count": 10
    },
    {
      "id": "576fe87a-7db9-4e91-bdea-b86b42798770",
      "cell_type": "code",
      "source": "a = 200\nb = 60\nc = a/b\nprint (\"This will convert 200 minutes to hours by diving by 60\")\nprint (c)",
      "metadata": {
        "trusted": true
      },
      "outputs": [
        {
          "name": "stdout",
          "output_type": "stream",
          "text": "This will convert 200 minutes to hours by diving by 60\n3.3333333333333335\n"
        }
      ],
      "execution_count": 11
    },
    {
      "id": "d2ef5d3f-40b7-4de6-90fd-53e853ac76b4",
      "cell_type": "markdown",
      "source": "# **Objetivos**",
      "metadata": {}
    },
    {
      "id": "c7580464-c16b-479c-bd32-6e5317f812e9",
      "cell_type": "markdown",
      "source": "# **Lista**\n- primero\n- segundo\n- tercero\n- cuarto\n- quinto",
      "metadata": {}
    },
    {
      "id": "4ef6dc33-74bd-4b47-af75-b9222feca75d",
      "cell_type": "markdown",
      "source": "# **Objetivos**\n- primero\n- segundo\n- tercero\n- cuarto\n- quinto",
      "metadata": {}
    },
    {
      "id": "0042e483-9758-45e4-94d1-4c1e0ecce840",
      "cell_type": "markdown",
      "source": "## Author",
      "metadata": {}
    },
    {
      "id": "35813133-b3d0-4776-8048-57f1bf63ae28",
      "cell_type": "markdown",
      "source": "## Author\nprint (\"Rafael Gonzalez Alvarez\")",
      "metadata": {}
    },
    {
      "id": "4e9349e8-8d25-4ee2-9314-9e05681f0927",
      "cell_type": "markdown",
      "source": "## Author\nRafael Gonzalez Alvarez",
      "metadata": {}
    },
    {
      "id": "a372f8db-e069-4c30-bc65-4f7807ad0069",
      "cell_type": "code",
      "source": "",
      "metadata": {
        "trusted": true
      },
      "outputs": [],
      "execution_count": null
    }
  ]
}